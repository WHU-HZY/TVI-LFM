{
 "cells": [
  {
   "cell_type": "markdown",
   "metadata": {},
   "source": [
    "# Color Removing Tool"
   ]
  },
  {
   "cell_type": "code",
   "execution_count": null,
   "metadata": {},
   "outputs": [],
   "source": [
    "colorset = ['sky blue','sky-blue', 'sky-colored', 'sea blue', 'sea-blue','sky','sea','maroon',\n",
    "            'multicolored', 'gray', 'black', 'redish', 'blueish', 'brown', 'lime',\n",
    "            'golden', 'nude', 'purplish', 'teal', 'magenta', 'tan', 'grassy',\n",
    "            'red', 'brownish', 'yellow', 'olive', 'metallic', 'orange', 'aqua', 'kaki',\n",
    "            'bluish', 'purple', 'grayish', 'beige', 'pinkish', 'cream','auburn',\n",
    "            'bleached', 'straw', 'orangish', 'brunette', 'white', 'yellowish', 'blue',\n",
    "            'reddish', 'green', 'coral', 'greenish', 'blond', 'taupe', 'pink', 'grey',\n",
    "            'colorful', 'neutral', 'transparent', 'gold', 'greyish', 'whitish',\n",
    "            'orangey', 'salmon', 'dark', 'blonde', 'burgundy', 'khaki', 'silver',\n",
    "            'navy',\"neon\",\"pastel\",\"pastel-colored\", \"peach\", \"leaf\", \"leafy\", \"leaf-colored\",]\n",
    "\n",
    "\n",
    "# Function to remove colors from a sentence\n",
    "def remove_colors(sentence, colors):\n",
    "    for color in colors:\n",
    "        for color2 in colors:\n",
    "            sentence = sentence.replace(f\" half-{color} and half-{color2} \", \" \").replace(f\" half-{color} and half-{color2}.\",\".\").replace(f\" {color} and {color2},\", \"\")\n",
    "        sentence = sentence.replace(f\" half-{color} \", \"\").replace(f\" half-{color}\",\"\").replace(f\" half-{color}.\",\".\").replace(f\" {color}-colored\", \"\").replace(f\"{color}-\",\"\")\n",
    "        sentence = sentence.replace(f\", {color}\",\"\").replace(f\" {color},\",\"\").replace(f\" {color}.\",\".\").replace(f\" {color} \",\" \")\n",
    "    return sentence"
   ]
  },
  {
   "cell_type": "code",
   "execution_count": 19,
   "metadata": {},
   "outputs": [
    {
     "name": "stdout",
     "output_type": "stream",
     "text": [
      "Her shoes are a matching.\n"
     ]
    }
   ],
   "source": [
    "s = \"Her black shoes are a matching sky blue red.\"\n",
    "print(remove_colors(s, colorset))"
   ]
  }
 ],
 "metadata": {
  "kernelspec": {
   "display_name": "minigptv",
   "language": "python",
   "name": "python3"
  },
  "language_info": {
   "codemirror_mode": {
    "name": "ipython",
    "version": 3
   },
   "file_extension": ".py",
   "mimetype": "text/x-python",
   "name": "python",
   "nbconvert_exporter": "python",
   "pygments_lexer": "ipython3",
   "version": "3.9.18"
  }
 },
 "nbformat": 4,
 "nbformat_minor": 2
}
